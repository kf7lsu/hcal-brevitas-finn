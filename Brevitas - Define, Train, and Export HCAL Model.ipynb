{
 "cells": [
  {
   "cell_type": "code",
   "execution_count": 1,
   "metadata": {},
   "outputs": [],
   "source": [
    "from torch.nn import Module\n",
    "import torch.nn.functional as F\n",
    "import brevitas.nn as qnn\n",
    "from brevitas.core.quant import QuantType"
   ]
  },
  {
   "cell_type": "code",
   "execution_count": 16,
   "metadata": {},
   "outputs": [
    {
     "ename": "IndentationError",
     "evalue": "unexpected indent (<ipython-input-16-e6f6354bb624>, line 8)",
     "output_type": "error",
     "traceback": [
      "\u001b[0;36m  File \u001b[0;32m\"<ipython-input-16-e6f6354bb624>\"\u001b[0;36m, line \u001b[0;32m8\u001b[0m\n\u001b[0;31m    (compute_output_bitwidth=True,\u001b[0m\n\u001b[0m    ^\u001b[0m\n\u001b[0;31mIndentationError\u001b[0m\u001b[0;31m:\u001b[0m unexpected indent\n"
     ]
    }
   ],
   "source": [
    "# Definition of Network structure 12 inputs Batchnorm, Dense, Batchnorm, Dense, Batchnorm, Dense, Batchnorm, Dense\n",
    "class QuantHCAL(Module):\n",
    "    def __init__(self, n_inputs):\n",
    "        super(QuantHCAL, self).__init__()\n",
    "        self.batch1 = qnn.QuantBatchNorm2d(num_features=n_inputs, \n",
    "                                           momentum=0.6,\n",
    "                                           bias_quant_type=QuantType.BINARY)\n",
    "                                           (compute_output_bitwidth=True,\n",
    "                                           compute_output_scale=True)\n",
    "        self.linear1 = qnn.QuantLinear(in_features = num_features, \n",
    "                                       out_features=31, \n",
    "                                       bias_quant_type=QuantType.BINARY, \n",
    "                                       weight_quant_type=QuantType.BINARY)\n",
    "        self.relu1 = qnn.QuantReLU(quant_type=QuantType.BINARY)\n",
    "        self.batch2 = qnn.QuantBatchNorm2d(num_features=31, \n",
    "                                           momentum=0.6,\n",
    "                                           bias_quant_type=QuantType.BINARY)\n",
    "        self.linear2 = qnn.QuantLinear(in_features = 31, \n",
    "                                       out_features=11, \n",
    "                                       bias_quant_type=QuantType.BINARY, \n",
    "                                       weight_quant_type=QuantType.BINARY)\n",
    "        self.relu2 = qnn.QuantReLU(quant_type=QuantType.BINARY)\n",
    "        self.batch3 = qnn.QuantBatchNorm2d(num_features=11, \n",
    "                                           momentum=0.6,\n",
    "                                           bias_quant_type=QuantType.BINARY)\n",
    "        self.linear3 = qnn.QuantLinear(in_features = 11, \n",
    "                                       out_features=3, \n",
    "                                       bias_quant_type=QuantType.BINARY, \n",
    "                                       weight_quant_type=QuantType.BINARY)\n",
    "        self.relu3 = qnn.QuantReLU(quant_type=QuantType.BINARY)\n",
    "        self.batch4 = qnn.QuantBatchNorm2d(num_features=3,\n",
    "                                           momentum = 0.6,\n",
    "                                           bias_quant_type=QuantType.BINARY)\n",
    "        self.out = qnn.QuantLinear(in_features = 3, \n",
    "                                       out_features=1, \n",
    "                                       bias_quant_type=QuantType.BINARY, \n",
    "                                       weight_quant_type=QuantType.BINARY)\n",
    "        \n",
    "    def forward(self, x):\n",
    "        res = self.batch1(x)\n",
    "        res = self.relu1(self.linear1(res))\n",
    "        res = self.batch2(res)\n",
    "        res = self.relu2(self.linear2(res))\n",
    "        res = self.batch3(res)\n",
    "        res = self.relu3(self.linear3(res))\n",
    "        res = self.batch4(res)\n",
    "        res = self.out(res)\n",
    "        return res"
   ]
  },
  {
   "cell_type": "code",
   "execution_count": 17,
   "metadata": {},
   "outputs": [
    {
     "ename": "TypeError",
     "evalue": "__init__() got an unexpected keyword argument 'compute_output_bitwidth'",
     "output_type": "error",
     "traceback": [
      "\u001b[0;31m---------------------------------------------------------------------------\u001b[0m",
      "\u001b[0;31mTypeError\u001b[0m                                 Traceback (most recent call last)",
      "\u001b[0;32m<ipython-input-17-e38ac07861d4>\u001b[0m in \u001b[0;36m<module>\u001b[0;34m\u001b[0m\n\u001b[0;32m----> 1\u001b[0;31m \u001b[0ma\u001b[0m \u001b[0;34m=\u001b[0m \u001b[0mQuantHCAL\u001b[0m\u001b[0;34m(\u001b[0m\u001b[0;36m5\u001b[0m\u001b[0;34m)\u001b[0m\u001b[0;34m\u001b[0m\u001b[0;34m\u001b[0m\u001b[0m\n\u001b[0m",
      "\u001b[0;32m<ipython-input-14-f63f34aa5a99>\u001b[0m in \u001b[0;36m__init__\u001b[0;34m(self, n_inputs)\u001b[0m\n\u001b[1;32m      7\u001b[0m                                            \u001b[0mbias_quant_type\u001b[0m\u001b[0;34m=\u001b[0m\u001b[0mQuantType\u001b[0m\u001b[0;34m.\u001b[0m\u001b[0mBINARY\u001b[0m\u001b[0;34m,\u001b[0m\u001b[0;34m\u001b[0m\u001b[0;34m\u001b[0m\u001b[0m\n\u001b[1;32m      8\u001b[0m                                            \u001b[0mcompute_output_bitwidth\u001b[0m\u001b[0;34m=\u001b[0m\u001b[0;32mTrue\u001b[0m\u001b[0;34m,\u001b[0m\u001b[0;34m\u001b[0m\u001b[0;34m\u001b[0m\u001b[0m\n\u001b[0;32m----> 9\u001b[0;31m                                            compute_output_scale=True)\n\u001b[0m\u001b[1;32m     10\u001b[0m         self.linear1 = qnn.QuantLinear(in_features = num_features, \n\u001b[1;32m     11\u001b[0m                                        \u001b[0mout_features\u001b[0m\u001b[0;34m=\u001b[0m\u001b[0;36m31\u001b[0m\u001b[0;34m,\u001b[0m\u001b[0;34m\u001b[0m\u001b[0;34m\u001b[0m\u001b[0m\n",
      "\u001b[0;31mTypeError\u001b[0m: __init__() got an unexpected keyword argument 'compute_output_bitwidth'"
     ]
    }
   ],
   "source": [
    "a = QuantHCAL(5)"
   ]
  },
  {
   "cell_type": "code",
   "execution_count": null,
   "metadata": {},
   "outputs": [],
   "source": []
  }
 ],
 "metadata": {
  "kernelspec": {
   "display_name": "Python 3",
   "language": "python",
   "name": "python3"
  },
  "language_info": {
   "codemirror_mode": {
    "name": "ipython",
    "version": 3
   },
   "file_extension": ".py",
   "mimetype": "text/x-python",
   "name": "python",
   "nbconvert_exporter": "python",
   "pygments_lexer": "ipython3",
   "version": "3.6.8"
  }
 },
 "nbformat": 4,
 "nbformat_minor": 4
}
